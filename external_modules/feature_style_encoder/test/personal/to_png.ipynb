{
 "cells": [
  {
   "cell_type": "code",
   "execution_count": null,
   "metadata": {},
   "outputs": [],
   "source": [
    "import os\n",
    "import glob\n",
    "\n",
    "files = glob.glob(\"heic/*.HEIC\")\n",
    "\n",
    "from PIL import Image\n",
    "from pillow_heif import register_heif_opener\n",
    "# to png\n",
    "for file in files:\n",
    "    basename = os.path.basename(file)\n",
    "\n",
    "    register_heif_opener()\n",
    "\n",
    "    image = Image.open(file)\n",
    "    image.save(basename[:-4] + \"png\")"
   ]
  },
  {
   "cell_type": "code",
   "execution_count": null,
   "metadata": {},
   "outputs": [],
   "source": [
    "\n",
    "files = glob.glob(\"./png/*.png\")\n",
    "\n",
    "from PIL import Image\n",
    "import mediapy as mp\n",
    "# from pillow_heif import register_heif_opener\n",
    "# to png\n",
    "\n",
    "for file in files:\n",
    "    basename = os.path.basename(file)\n",
    "    image = mp.read_image(file)\n",
    "    w, h, c = image.shape\n",
    "\n",
    "    image = mp.resize_image(image, [w//2, h//2])\n",
    "    \n",
    "    size = 512\n",
    "    \n",
    "    image = image[w//4-size:w//4+size, h//4-size:h//4+size]\n",
    "    print(image.shape)\n",
    "    mp.show_image(image, height=100)\n",
    "    # break\n",
    "    mp.write_image(basename, image)"
   ]
  },
  {
   "cell_type": "code",
   "execution_count": null,
   "metadata": {},
   "outputs": [],
   "source": [
    "!tar -cvf landscape_kseo.tar *.png"
   ]
  },
  {
   "cell_type": "code",
   "execution_count": null,
   "metadata": {},
   "outputs": [],
   "source": []
  }
 ],
 "metadata": {
  "kernelspec": {
   "display_name": "base",
   "language": "python",
   "name": "python3"
  },
  "language_info": {
   "codemirror_mode": {
    "name": "ipython",
    "version": 3
   },
   "file_extension": ".py",
   "mimetype": "text/x-python",
   "name": "python",
   "nbconvert_exporter": "python",
   "pygments_lexer": "ipython3",
   "version": "3.8.10"
  },
  "orig_nbformat": 4
 },
 "nbformat": 4,
 "nbformat_minor": 2
}
